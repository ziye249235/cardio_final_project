{
 "cells": [
  {
   "cell_type": "markdown",
   "metadata": {},
   "source": [
    "# Predicting Cardiovascular Disease"
   ]
  },
  {
   "cell_type": "code",
   "execution_count": 2,
   "metadata": {},
   "outputs": [
    {
     "name": "stderr",
     "output_type": "stream",
     "text": [
      "C:\\Users\\zzyzz\\anaconda3\\envs\\PythonData\\lib\\site-packages\\tensorflow\\python\\framework\\dtypes.py:516: FutureWarning: Passing (type, 1) or '1type' as a synonym of type is deprecated; in a future version of numpy, it will be understood as (type, (1,)) / '(1,)type'.\n",
      "  _np_qint8 = np.dtype([(\"qint8\", np.int8, 1)])\n",
      "C:\\Users\\zzyzz\\anaconda3\\envs\\PythonData\\lib\\site-packages\\tensorflow\\python\\framework\\dtypes.py:517: FutureWarning: Passing (type, 1) or '1type' as a synonym of type is deprecated; in a future version of numpy, it will be understood as (type, (1,)) / '(1,)type'.\n",
      "  _np_quint8 = np.dtype([(\"quint8\", np.uint8, 1)])\n",
      "C:\\Users\\zzyzz\\anaconda3\\envs\\PythonData\\lib\\site-packages\\tensorflow\\python\\framework\\dtypes.py:518: FutureWarning: Passing (type, 1) or '1type' as a synonym of type is deprecated; in a future version of numpy, it will be understood as (type, (1,)) / '(1,)type'.\n",
      "  _np_qint16 = np.dtype([(\"qint16\", np.int16, 1)])\n",
      "C:\\Users\\zzyzz\\anaconda3\\envs\\PythonData\\lib\\site-packages\\tensorflow\\python\\framework\\dtypes.py:519: FutureWarning: Passing (type, 1) or '1type' as a synonym of type is deprecated; in a future version of numpy, it will be understood as (type, (1,)) / '(1,)type'.\n",
      "  _np_quint16 = np.dtype([(\"quint16\", np.uint16, 1)])\n",
      "C:\\Users\\zzyzz\\anaconda3\\envs\\PythonData\\lib\\site-packages\\tensorflow\\python\\framework\\dtypes.py:520: FutureWarning: Passing (type, 1) or '1type' as a synonym of type is deprecated; in a future version of numpy, it will be understood as (type, (1,)) / '(1,)type'.\n",
      "  _np_qint32 = np.dtype([(\"qint32\", np.int32, 1)])\n",
      "C:\\Users\\zzyzz\\anaconda3\\envs\\PythonData\\lib\\site-packages\\tensorflow\\python\\framework\\dtypes.py:525: FutureWarning: Passing (type, 1) or '1type' as a synonym of type is deprecated; in a future version of numpy, it will be understood as (type, (1,)) / '(1,)type'.\n",
      "  np_resource = np.dtype([(\"resource\", np.ubyte, 1)])\n",
      "C:\\Users\\zzyzz\\anaconda3\\envs\\PythonData\\lib\\site-packages\\tensorboard\\compat\\tensorflow_stub\\dtypes.py:541: FutureWarning: Passing (type, 1) or '1type' as a synonym of type is deprecated; in a future version of numpy, it will be understood as (type, (1,)) / '(1,)type'.\n",
      "  _np_qint8 = np.dtype([(\"qint8\", np.int8, 1)])\n",
      "C:\\Users\\zzyzz\\anaconda3\\envs\\PythonData\\lib\\site-packages\\tensorboard\\compat\\tensorflow_stub\\dtypes.py:542: FutureWarning: Passing (type, 1) or '1type' as a synonym of type is deprecated; in a future version of numpy, it will be understood as (type, (1,)) / '(1,)type'.\n",
      "  _np_quint8 = np.dtype([(\"quint8\", np.uint8, 1)])\n",
      "C:\\Users\\zzyzz\\anaconda3\\envs\\PythonData\\lib\\site-packages\\tensorboard\\compat\\tensorflow_stub\\dtypes.py:543: FutureWarning: Passing (type, 1) or '1type' as a synonym of type is deprecated; in a future version of numpy, it will be understood as (type, (1,)) / '(1,)type'.\n",
      "  _np_qint16 = np.dtype([(\"qint16\", np.int16, 1)])\n",
      "C:\\Users\\zzyzz\\anaconda3\\envs\\PythonData\\lib\\site-packages\\tensorboard\\compat\\tensorflow_stub\\dtypes.py:544: FutureWarning: Passing (type, 1) or '1type' as a synonym of type is deprecated; in a future version of numpy, it will be understood as (type, (1,)) / '(1,)type'.\n",
      "  _np_quint16 = np.dtype([(\"quint16\", np.uint16, 1)])\n",
      "C:\\Users\\zzyzz\\anaconda3\\envs\\PythonData\\lib\\site-packages\\tensorboard\\compat\\tensorflow_stub\\dtypes.py:545: FutureWarning: Passing (type, 1) or '1type' as a synonym of type is deprecated; in a future version of numpy, it will be understood as (type, (1,)) / '(1,)type'.\n",
      "  _np_qint32 = np.dtype([(\"qint32\", np.int32, 1)])\n",
      "C:\\Users\\zzyzz\\anaconda3\\envs\\PythonData\\lib\\site-packages\\tensorboard\\compat\\tensorflow_stub\\dtypes.py:550: FutureWarning: Passing (type, 1) or '1type' as a synonym of type is deprecated; in a future version of numpy, it will be understood as (type, (1,)) / '(1,)type'.\n",
      "  np_resource = np.dtype([(\"resource\", np.ubyte, 1)])\n"
     ]
    }
   ],
   "source": [
    "# Import our dependencies\n",
    "from sklearn.model_selection import train_test_split\n",
    "from sklearn.preprocessing import StandardScaler,OneHotEncoder\n",
    "import pandas as pd\n",
    "import tensorflow as tf\n",
    "from path import Path\n",
    "from sqlalchemy import create_engine\n",
    "from sqlalchemy.orm import Session\n",
    "from sqlalchemy.ext.automap import automap_base\n",
    "import sqlalchemy\n",
    "from config import db_password"
   ]
  },
  {
   "cell_type": "code",
   "execution_count": 3,
   "metadata": {},
   "outputs": [
    {
     "ename": "FileNotFoundError",
     "evalue": "[Errno 2] File /Users/Maryam/Desktop/utor-virt-data-pt-06-2020-u-b/cardio_final_project/cardio_train.csv does not exist: Path('/Users/Maryam/Desktop/utor-virt-data-pt-06-2020-u-b/cardio_final_project/cardio_train.csv')",
     "output_type": "error",
     "traceback": [
      "\u001b[1;31m---------------------------------------------------------------------------\u001b[0m",
      "\u001b[1;31mFileNotFoundError\u001b[0m                         Traceback (most recent call last)",
      "\u001b[1;32m<ipython-input-3-646b03c4e72e>\u001b[0m in \u001b[0;36m<module>\u001b[1;34m\u001b[0m\n\u001b[0;32m      1\u001b[0m \u001b[1;31m# Import csv file\u001b[0m\u001b[1;33m\u001b[0m\u001b[1;33m\u001b[0m\u001b[1;33m\u001b[0m\u001b[0m\n\u001b[0;32m      2\u001b[0m \u001b[0mdata\u001b[0m \u001b[1;33m=\u001b[0m \u001b[0mPath\u001b[0m\u001b[1;33m(\u001b[0m\u001b[1;34m'/Users/Maryam/Desktop/utor-virt-data-pt-06-2020-u-b/cardio_final_project/cardio_train.csv'\u001b[0m\u001b[1;33m)\u001b[0m\u001b[1;33m\u001b[0m\u001b[1;33m\u001b[0m\u001b[0m\n\u001b[1;32m----> 3\u001b[1;33m \u001b[0mdf\u001b[0m \u001b[1;33m=\u001b[0m \u001b[0mpd\u001b[0m\u001b[1;33m.\u001b[0m\u001b[0mread_csv\u001b[0m\u001b[1;33m(\u001b[0m\u001b[0mdata\u001b[0m\u001b[1;33m)\u001b[0m\u001b[1;33m\u001b[0m\u001b[1;33m\u001b[0m\u001b[0m\n\u001b[0m\u001b[0;32m      4\u001b[0m \u001b[0mdf\u001b[0m\u001b[1;33m.\u001b[0m\u001b[0mhead\u001b[0m\u001b[1;33m(\u001b[0m\u001b[1;33m)\u001b[0m\u001b[1;33m\u001b[0m\u001b[1;33m\u001b[0m\u001b[0m\n",
      "\u001b[1;32m~\\anaconda3\\envs\\PythonData\\lib\\site-packages\\pandas\\io\\parsers.py\u001b[0m in \u001b[0;36mparser_f\u001b[1;34m(filepath_or_buffer, sep, delimiter, header, names, index_col, usecols, squeeze, prefix, mangle_dupe_cols, dtype, engine, converters, true_values, false_values, skipinitialspace, skiprows, skipfooter, nrows, na_values, keep_default_na, na_filter, verbose, skip_blank_lines, parse_dates, infer_datetime_format, keep_date_col, date_parser, dayfirst, cache_dates, iterator, chunksize, compression, thousands, decimal, lineterminator, quotechar, quoting, doublequote, escapechar, comment, encoding, dialect, error_bad_lines, warn_bad_lines, delim_whitespace, low_memory, memory_map, float_precision)\u001b[0m\n\u001b[0;32m    674\u001b[0m         )\n\u001b[0;32m    675\u001b[0m \u001b[1;33m\u001b[0m\u001b[0m\n\u001b[1;32m--> 676\u001b[1;33m         \u001b[1;32mreturn\u001b[0m \u001b[0m_read\u001b[0m\u001b[1;33m(\u001b[0m\u001b[0mfilepath_or_buffer\u001b[0m\u001b[1;33m,\u001b[0m \u001b[0mkwds\u001b[0m\u001b[1;33m)\u001b[0m\u001b[1;33m\u001b[0m\u001b[1;33m\u001b[0m\u001b[0m\n\u001b[0m\u001b[0;32m    677\u001b[0m \u001b[1;33m\u001b[0m\u001b[0m\n\u001b[0;32m    678\u001b[0m     \u001b[0mparser_f\u001b[0m\u001b[1;33m.\u001b[0m\u001b[0m__name__\u001b[0m \u001b[1;33m=\u001b[0m \u001b[0mname\u001b[0m\u001b[1;33m\u001b[0m\u001b[1;33m\u001b[0m\u001b[0m\n",
      "\u001b[1;32m~\\anaconda3\\envs\\PythonData\\lib\\site-packages\\pandas\\io\\parsers.py\u001b[0m in \u001b[0;36m_read\u001b[1;34m(filepath_or_buffer, kwds)\u001b[0m\n\u001b[0;32m    446\u001b[0m \u001b[1;33m\u001b[0m\u001b[0m\n\u001b[0;32m    447\u001b[0m     \u001b[1;31m# Create the parser.\u001b[0m\u001b[1;33m\u001b[0m\u001b[1;33m\u001b[0m\u001b[1;33m\u001b[0m\u001b[0m\n\u001b[1;32m--> 448\u001b[1;33m     \u001b[0mparser\u001b[0m \u001b[1;33m=\u001b[0m \u001b[0mTextFileReader\u001b[0m\u001b[1;33m(\u001b[0m\u001b[0mfp_or_buf\u001b[0m\u001b[1;33m,\u001b[0m \u001b[1;33m**\u001b[0m\u001b[0mkwds\u001b[0m\u001b[1;33m)\u001b[0m\u001b[1;33m\u001b[0m\u001b[1;33m\u001b[0m\u001b[0m\n\u001b[0m\u001b[0;32m    449\u001b[0m \u001b[1;33m\u001b[0m\u001b[0m\n\u001b[0;32m    450\u001b[0m     \u001b[1;32mif\u001b[0m \u001b[0mchunksize\u001b[0m \u001b[1;32mor\u001b[0m \u001b[0miterator\u001b[0m\u001b[1;33m:\u001b[0m\u001b[1;33m\u001b[0m\u001b[1;33m\u001b[0m\u001b[0m\n",
      "\u001b[1;32m~\\anaconda3\\envs\\PythonData\\lib\\site-packages\\pandas\\io\\parsers.py\u001b[0m in \u001b[0;36m__init__\u001b[1;34m(self, f, engine, **kwds)\u001b[0m\n\u001b[0;32m    878\u001b[0m             \u001b[0mself\u001b[0m\u001b[1;33m.\u001b[0m\u001b[0moptions\u001b[0m\u001b[1;33m[\u001b[0m\u001b[1;34m\"has_index_names\"\u001b[0m\u001b[1;33m]\u001b[0m \u001b[1;33m=\u001b[0m \u001b[0mkwds\u001b[0m\u001b[1;33m[\u001b[0m\u001b[1;34m\"has_index_names\"\u001b[0m\u001b[1;33m]\u001b[0m\u001b[1;33m\u001b[0m\u001b[1;33m\u001b[0m\u001b[0m\n\u001b[0;32m    879\u001b[0m \u001b[1;33m\u001b[0m\u001b[0m\n\u001b[1;32m--> 880\u001b[1;33m         \u001b[0mself\u001b[0m\u001b[1;33m.\u001b[0m\u001b[0m_make_engine\u001b[0m\u001b[1;33m(\u001b[0m\u001b[0mself\u001b[0m\u001b[1;33m.\u001b[0m\u001b[0mengine\u001b[0m\u001b[1;33m)\u001b[0m\u001b[1;33m\u001b[0m\u001b[1;33m\u001b[0m\u001b[0m\n\u001b[0m\u001b[0;32m    881\u001b[0m \u001b[1;33m\u001b[0m\u001b[0m\n\u001b[0;32m    882\u001b[0m     \u001b[1;32mdef\u001b[0m \u001b[0mclose\u001b[0m\u001b[1;33m(\u001b[0m\u001b[0mself\u001b[0m\u001b[1;33m)\u001b[0m\u001b[1;33m:\u001b[0m\u001b[1;33m\u001b[0m\u001b[1;33m\u001b[0m\u001b[0m\n",
      "\u001b[1;32m~\\anaconda3\\envs\\PythonData\\lib\\site-packages\\pandas\\io\\parsers.py\u001b[0m in \u001b[0;36m_make_engine\u001b[1;34m(self, engine)\u001b[0m\n\u001b[0;32m   1112\u001b[0m     \u001b[1;32mdef\u001b[0m \u001b[0m_make_engine\u001b[0m\u001b[1;33m(\u001b[0m\u001b[0mself\u001b[0m\u001b[1;33m,\u001b[0m \u001b[0mengine\u001b[0m\u001b[1;33m=\u001b[0m\u001b[1;34m\"c\"\u001b[0m\u001b[1;33m)\u001b[0m\u001b[1;33m:\u001b[0m\u001b[1;33m\u001b[0m\u001b[1;33m\u001b[0m\u001b[0m\n\u001b[0;32m   1113\u001b[0m         \u001b[1;32mif\u001b[0m \u001b[0mengine\u001b[0m \u001b[1;33m==\u001b[0m \u001b[1;34m\"c\"\u001b[0m\u001b[1;33m:\u001b[0m\u001b[1;33m\u001b[0m\u001b[1;33m\u001b[0m\u001b[0m\n\u001b[1;32m-> 1114\u001b[1;33m             \u001b[0mself\u001b[0m\u001b[1;33m.\u001b[0m\u001b[0m_engine\u001b[0m \u001b[1;33m=\u001b[0m \u001b[0mCParserWrapper\u001b[0m\u001b[1;33m(\u001b[0m\u001b[0mself\u001b[0m\u001b[1;33m.\u001b[0m\u001b[0mf\u001b[0m\u001b[1;33m,\u001b[0m \u001b[1;33m**\u001b[0m\u001b[0mself\u001b[0m\u001b[1;33m.\u001b[0m\u001b[0moptions\u001b[0m\u001b[1;33m)\u001b[0m\u001b[1;33m\u001b[0m\u001b[1;33m\u001b[0m\u001b[0m\n\u001b[0m\u001b[0;32m   1115\u001b[0m         \u001b[1;32melse\u001b[0m\u001b[1;33m:\u001b[0m\u001b[1;33m\u001b[0m\u001b[1;33m\u001b[0m\u001b[0m\n\u001b[0;32m   1116\u001b[0m             \u001b[1;32mif\u001b[0m \u001b[0mengine\u001b[0m \u001b[1;33m==\u001b[0m \u001b[1;34m\"python\"\u001b[0m\u001b[1;33m:\u001b[0m\u001b[1;33m\u001b[0m\u001b[1;33m\u001b[0m\u001b[0m\n",
      "\u001b[1;32m~\\anaconda3\\envs\\PythonData\\lib\\site-packages\\pandas\\io\\parsers.py\u001b[0m in \u001b[0;36m__init__\u001b[1;34m(self, src, **kwds)\u001b[0m\n\u001b[0;32m   1889\u001b[0m         \u001b[0mkwds\u001b[0m\u001b[1;33m[\u001b[0m\u001b[1;34m\"usecols\"\u001b[0m\u001b[1;33m]\u001b[0m \u001b[1;33m=\u001b[0m \u001b[0mself\u001b[0m\u001b[1;33m.\u001b[0m\u001b[0musecols\u001b[0m\u001b[1;33m\u001b[0m\u001b[1;33m\u001b[0m\u001b[0m\n\u001b[0;32m   1890\u001b[0m \u001b[1;33m\u001b[0m\u001b[0m\n\u001b[1;32m-> 1891\u001b[1;33m         \u001b[0mself\u001b[0m\u001b[1;33m.\u001b[0m\u001b[0m_reader\u001b[0m \u001b[1;33m=\u001b[0m \u001b[0mparsers\u001b[0m\u001b[1;33m.\u001b[0m\u001b[0mTextReader\u001b[0m\u001b[1;33m(\u001b[0m\u001b[0msrc\u001b[0m\u001b[1;33m,\u001b[0m \u001b[1;33m**\u001b[0m\u001b[0mkwds\u001b[0m\u001b[1;33m)\u001b[0m\u001b[1;33m\u001b[0m\u001b[1;33m\u001b[0m\u001b[0m\n\u001b[0m\u001b[0;32m   1892\u001b[0m         \u001b[0mself\u001b[0m\u001b[1;33m.\u001b[0m\u001b[0munnamed_cols\u001b[0m \u001b[1;33m=\u001b[0m \u001b[0mself\u001b[0m\u001b[1;33m.\u001b[0m\u001b[0m_reader\u001b[0m\u001b[1;33m.\u001b[0m\u001b[0munnamed_cols\u001b[0m\u001b[1;33m\u001b[0m\u001b[1;33m\u001b[0m\u001b[0m\n\u001b[0;32m   1893\u001b[0m \u001b[1;33m\u001b[0m\u001b[0m\n",
      "\u001b[1;32mpandas\\_libs\\parsers.pyx\u001b[0m in \u001b[0;36mpandas._libs.parsers.TextReader.__cinit__\u001b[1;34m()\u001b[0m\n",
      "\u001b[1;32mpandas\\_libs\\parsers.pyx\u001b[0m in \u001b[0;36mpandas._libs.parsers.TextReader._setup_parser_source\u001b[1;34m()\u001b[0m\n",
      "\u001b[1;31mFileNotFoundError\u001b[0m: [Errno 2] File /Users/Maryam/Desktop/utor-virt-data-pt-06-2020-u-b/cardio_final_project/cardio_train.csv does not exist: Path('/Users/Maryam/Desktop/utor-virt-data-pt-06-2020-u-b/cardio_final_project/cardio_train.csv')"
     ]
    }
   ],
   "source": [
    "# Import csv file \n",
    "data = Path('/Users/Maryam/Desktop/utor-virt-data-pt-06-2020-u-b/cardio_final_project/cardio_train.csv')\n",
    "df = pd.read_csv(data)\n",
    "df.head()"
   ]
  },
  {
   "cell_type": "markdown",
   "metadata": {},
   "source": [
    " ## Clean the data\n"
   ]
  },
  {
   "cell_type": "code",
   "execution_count": null,
   "metadata": {},
   "outputs": [],
   "source": [
    "df.set_index('id', inplace=True)\n",
    "df"
   ]
  },
  {
   "cell_type": "code",
   "execution_count": null,
   "metadata": {},
   "outputs": [],
   "source": [
    "# Columns\n",
    "df.columns"
   ]
  },
  {
   "cell_type": "code",
   "execution_count": null,
   "metadata": {},
   "outputs": [],
   "source": [
    "#Type of data\n",
    "df.dtypes"
   ]
  },
  {
   "cell_type": "code",
   "execution_count": null,
   "metadata": {},
   "outputs": [],
   "source": [
    "#Find null values\n",
    "for column in df.columns:\n",
    "    print(f\"Column {column} has {df[column].isnull().sum()} null values\" )\n",
    "    "
   ]
  },
  {
   "cell_type": "code",
   "execution_count": null,
   "metadata": {},
   "outputs": [],
   "source": [
    "# Determine the number of unique values in each column.\n",
    "df.nunique()"
   ]
  },
  {
   "cell_type": "markdown",
   "metadata": {},
   "source": [
    "## Declare target and feature variables and split data into training and testing"
   ]
  },
  {
   "cell_type": "code",
   "execution_count": null,
   "metadata": {},
   "outputs": [],
   "source": [
    "# Split our preprocessed data into our features and target arrays\n",
    "y = df.cardio\n",
    "X = df.drop(columns=[\"cardio\"])\n",
    "\n",
    "\n",
    "# Split the preprocessed data into a training and testing dataset\n",
    "X_train, X_test, y_train, y_test = train_test_split(X, y, random_state=42, stratify=y)"
   ]
  },
  {
   "cell_type": "markdown",
   "metadata": {},
   "source": [
    "## Scale the data"
   ]
  },
  {
   "cell_type": "code",
   "execution_count": 4,
   "metadata": {},
   "outputs": [
    {
     "ename": "NameError",
     "evalue": "name 'X_train' is not defined",
     "output_type": "error",
     "traceback": [
      "\u001b[1;31m---------------------------------------------------------------------------\u001b[0m",
      "\u001b[1;31mNameError\u001b[0m                                 Traceback (most recent call last)",
      "\u001b[1;32m<ipython-input-4-a1eba94f3c2e>\u001b[0m in \u001b[0;36m<module>\u001b[1;34m\u001b[0m\n\u001b[0;32m      3\u001b[0m \u001b[1;33m\u001b[0m\u001b[0m\n\u001b[0;32m      4\u001b[0m \u001b[1;31m# Fit the StandardScaler\u001b[0m\u001b[1;33m\u001b[0m\u001b[1;33m\u001b[0m\u001b[1;33m\u001b[0m\u001b[0m\n\u001b[1;32m----> 5\u001b[1;33m \u001b[0mX_scaler\u001b[0m \u001b[1;33m=\u001b[0m \u001b[0mscaler\u001b[0m\u001b[1;33m.\u001b[0m\u001b[0mfit\u001b[0m\u001b[1;33m(\u001b[0m\u001b[0mX_train\u001b[0m\u001b[1;33m)\u001b[0m\u001b[1;33m\u001b[0m\u001b[1;33m\u001b[0m\u001b[0m\n\u001b[0m\u001b[0;32m      6\u001b[0m \u001b[1;33m\u001b[0m\u001b[0m\n\u001b[0;32m      7\u001b[0m \u001b[1;31m# Scale the data\u001b[0m\u001b[1;33m\u001b[0m\u001b[1;33m\u001b[0m\u001b[1;33m\u001b[0m\u001b[0m\n",
      "\u001b[1;31mNameError\u001b[0m: name 'X_train' is not defined"
     ]
    }
   ],
   "source": [
    "# Create a StandardScaler instances\n",
    "scaler = StandardScaler()\n",
    "\n",
    "# Fit the StandardScaler\n",
    "X_scaler = scaler.fit(X_train)\n",
    "\n",
    "# Scale the data\n",
    "X_train_scaled = X_scaler.transform(X_train)\n",
    "X_test_scaled = X_scaler.transform(X_test)"
   ]
  },
  {
   "cell_type": "markdown",
   "metadata": {},
   "source": [
    "## Compile, Train and Evaluate the Model"
   ]
  },
  {
   "cell_type": "code",
   "execution_count": 56,
   "metadata": {},
   "outputs": [
    {
     "name": "stdout",
     "output_type": "stream",
     "text": [
      "Model: \"sequential\"\n",
      "_________________________________________________________________\n",
      "Layer (type)                 Output Shape              Param #   \n",
      "=================================================================\n",
      "dense (Dense)                (None, 30)                360       \n",
      "_________________________________________________________________\n",
      "dense_1 (Dense)              (None, 24)                744       \n",
      "_________________________________________________________________\n",
      "dense_2 (Dense)              (None, 1)                 25        \n",
      "=================================================================\n",
      "Total params: 1,129\n",
      "Trainable params: 1,129\n",
      "Non-trainable params: 0\n",
      "_________________________________________________________________\n"
     ]
    }
   ],
   "source": [
    "# Define the model - deep neural network, i.e., the number of input features and hidden nodes for each layer.\n",
    "number_input_features = len(X_train_scaled[0])\n",
    "hidden_nodes_layer1 =  30\n",
    "hidden_nodes_layer2 = 24\n",
    "nn = tf.keras.models.Sequential()\n",
    "\n",
    "# First hidden layer\n",
    "nn.add(\n",
    "    tf.keras.layers.Dense(units=hidden_nodes_layer1, input_dim=number_input_features, activation=\"relu\")\n",
    ")\n",
    "\n",
    "# Second hidden layer\n",
    "nn.add(tf.keras.layers.Dense(units=hidden_nodes_layer2, activation=\"relu\"))\n",
    "\n",
    "# Output layer\n",
    "nn.add(tf.keras.layers.Dense(units=1, activation=\"sigmoid\"))\n",
    "\n",
    "# Check the structure of the model\n",
    "nn.summary()"
   ]
  },
  {
   "cell_type": "code",
   "execution_count": 57,
   "metadata": {},
   "outputs": [],
   "source": [
    "# Compile the model\n",
    "nn.compile(loss=\"binary_crossentropy\", optimizer=\"adam\", metrics=[\"accuracy\"])"
   ]
  },
  {
   "cell_type": "markdown",
   "metadata": {},
   "source": [
    "## Train Model"
   ]
  },
  {
   "cell_type": "code",
   "execution_count": 58,
   "metadata": {},
   "outputs": [
    {
     "name": "stdout",
     "output_type": "stream",
     "text": [
      "Train on 52500 samples\n",
      "Epoch 1/100\n",
      "52500/52500 [==============================] - 6s 123us/sample - loss: 0.6076 - accuracy: 0.6741\n",
      "Epoch 2/100\n",
      "52500/52500 [==============================] - 5s 92us/sample - loss: 0.5650 - accuracy: 0.7261\n",
      "Epoch 3/100\n",
      "52500/52500 [==============================] - 6s 122us/sample - loss: 0.5549 - accuracy: 0.7309\n",
      "Epoch 4/100\n",
      "52500/52500 [==============================] - 5s 94us/sample - loss: 0.5502 - accuracy: 0.7332\n",
      "Epoch 5/100\n",
      "52500/52500 [==============================] - 6s 113us/sample - loss: 0.5466 - accuracy: 0.7333\n",
      "Epoch 6/100\n",
      "52500/52500 [==============================] - 6s 115us/sample - loss: 0.5453 - accuracy: 0.7342\n",
      "Epoch 7/100\n",
      "52500/52500 [==============================] - 6s 110us/sample - loss: 0.5443 - accuracy: 0.7335\n",
      "Epoch 8/100\n",
      "52500/52500 [==============================] - 5s 96us/sample - loss: 0.5425 - accuracy: 0.7347\n",
      "Epoch 9/100\n",
      "52500/52500 [==============================] - 6s 107us/sample - loss: 0.5420 - accuracy: 0.7358\n",
      "Epoch 10/100\n",
      "52500/52500 [==============================] - 6s 108us/sample - loss: 0.5414 - accuracy: 0.7358\n",
      "Epoch 11/100\n",
      "52500/52500 [==============================] - 5s 103us/sample - loss: 0.5404 - accuracy: 0.7355\n",
      "Epoch 12/100\n",
      "52500/52500 [==============================] - 5s 98us/sample - loss: 0.5403 - accuracy: 0.7368\n",
      "Epoch 13/100\n",
      "52500/52500 [==============================] - 5s 97us/sample - loss: 0.5403 - accuracy: 0.7362\n",
      "Epoch 14/100\n",
      "52500/52500 [==============================] - 6s 105us/sample - loss: 0.5400 - accuracy: 0.7359\n",
      "Epoch 15/100\n",
      "52500/52500 [==============================] - 6s 106us/sample - loss: 0.5391 - accuracy: 0.7370\n",
      "Epoch 16/100\n",
      "52500/52500 [==============================] - 6s 108us/sample - loss: 0.5390 - accuracy: 0.7368\n",
      "Epoch 17/100\n",
      "52500/52500 [==============================] - 6s 110us/sample - loss: 0.5387 - accuracy: 0.7365\n",
      "Epoch 18/100\n",
      "52500/52500 [==============================] - 6s 117us/sample - loss: 0.5385 - accuracy: 0.7365\n",
      "Epoch 19/100\n",
      "52500/52500 [==============================] - 5s 100us/sample - loss: 0.5385 - accuracy: 0.7365\n",
      "Epoch 20/100\n",
      "52500/52500 [==============================] - 5s 100us/sample - loss: 0.5384 - accuracy: 0.7371\n",
      "Epoch 21/100\n",
      "52500/52500 [==============================] - 5s 102us/sample - loss: 0.5383 - accuracy: 0.7376\n",
      "Epoch 22/100\n",
      "52500/52500 [==============================] - 6s 110us/sample - loss: 0.5381 - accuracy: 0.7369\n",
      "Epoch 23/100\n",
      "52500/52500 [==============================] - 5s 103us/sample - loss: 0.5377 - accuracy: 0.7373\n",
      "Epoch 24/100\n",
      "52500/52500 [==============================] - 6s 123us/sample - loss: 0.5372 - accuracy: 0.7368\n",
      "Epoch 25/100\n",
      "52500/52500 [==============================] - 6s 118us/sample - loss: 0.5374 - accuracy: 0.7387\n",
      "Epoch 26/100\n",
      "52500/52500 [==============================] - 5s 103us/sample - loss: 0.5368 - accuracy: 0.7379\n",
      "Epoch 27/100\n",
      "52500/52500 [==============================] - 5s 102us/sample - loss: 0.5373 - accuracy: 0.7379\n",
      "Epoch 28/100\n",
      "52500/52500 [==============================] - 5s 101us/sample - loss: 0.5366 - accuracy: 0.7376\n",
      "Epoch 29/100\n",
      "52500/52500 [==============================] - 5s 101us/sample - loss: 0.5370 - accuracy: 0.7381\n",
      "Epoch 30/100\n",
      "52500/52500 [==============================] - 6s 105us/sample - loss: 0.5366 - accuracy: 0.7380\n",
      "Epoch 31/100\n",
      "52500/52500 [==============================] - 5s 104us/sample - loss: 0.5368 - accuracy: 0.7378\n",
      "Epoch 32/100\n",
      "52500/52500 [==============================] - 5s 103us/sample - loss: 0.5364 - accuracy: 0.7383\n",
      "Epoch 33/100\n",
      "52500/52500 [==============================] - 5s 104us/sample - loss: 0.5364 - accuracy: 0.7375\n",
      "Epoch 34/100\n",
      "52500/52500 [==============================] - 6s 107us/sample - loss: 0.5361 - accuracy: 0.7372\n",
      "Epoch 35/100\n",
      "52500/52500 [==============================] - 6s 105us/sample - loss: 0.5360 - accuracy: 0.7385\n",
      "Epoch 36/100\n",
      "52500/52500 [==============================] - 6s 106us/sample - loss: 0.5359 - accuracy: 0.7394\n",
      "Epoch 37/100\n",
      "52500/52500 [==============================] - 5s 104us/sample - loss: 0.5360 - accuracy: 0.7386\n",
      "Epoch 38/100\n",
      "52500/52500 [==============================] - 6s 105us/sample - loss: 0.5361 - accuracy: 0.7386\n",
      "Epoch 39/100\n",
      "52500/52500 [==============================] - 5s 105us/sample - loss: 0.5359 - accuracy: 0.7395\n",
      "Epoch 40/100\n",
      "52500/52500 [==============================] - 6s 105us/sample - loss: 0.5356 - accuracy: 0.7391\n",
      "Epoch 41/100\n",
      "52500/52500 [==============================] - 5s 105us/sample - loss: 0.5354 - accuracy: 0.7380\n",
      "Epoch 42/100\n",
      "52500/52500 [==============================] - 6s 105us/sample - loss: 0.5354 - accuracy: 0.7395\n",
      "Epoch 43/100\n",
      "52500/52500 [==============================] - 6s 105us/sample - loss: 0.5353 - accuracy: 0.7371\n",
      "Epoch 44/100\n",
      "52500/52500 [==============================] - 6s 105us/sample - loss: 0.5352 - accuracy: 0.7396\n",
      "Epoch 45/100\n",
      "52500/52500 [==============================] - 6s 109us/sample - loss: 0.5351 - accuracy: 0.7387\n",
      "Epoch 46/100\n",
      "52500/52500 [==============================] - 6s 107us/sample - loss: 0.5350 - accuracy: 0.7391\n",
      "Epoch 47/100\n",
      "52500/52500 [==============================] - 6s 106us/sample - loss: 0.5349 - accuracy: 0.7397\n",
      "Epoch 48/100\n",
      "52500/52500 [==============================] - 6s 108us/sample - loss: 0.5346 - accuracy: 0.7393\n",
      "Epoch 49/100\n",
      "52500/52500 [==============================] - 6s 106us/sample - loss: 0.5346 - accuracy: 0.7393\n",
      "Epoch 50/100\n",
      "52500/52500 [==============================] - 6s 106us/sample - loss: 0.5344 - accuracy: 0.7396\n",
      "Epoch 51/100\n",
      "52500/52500 [==============================] - 6s 106us/sample - loss: 0.5344 - accuracy: 0.7397\n",
      "Epoch 52/100\n",
      "52500/52500 [==============================] - 6s 106us/sample - loss: 0.5345 - accuracy: 0.7393\n",
      "Epoch 53/100\n",
      "52500/52500 [==============================] - 5s 100us/sample - loss: 0.5343 - accuracy: 0.7394\n",
      "Epoch 54/100\n",
      "52500/52500 [==============================] - 5s 99us/sample - loss: 0.5339 - accuracy: 0.7395\n",
      "Epoch 55/100\n",
      "52500/52500 [==============================] - 5s 98us/sample - loss: 0.5341 - accuracy: 0.7393\n",
      "Epoch 56/100\n",
      "52500/52500 [==============================] - 5s 98us/sample - loss: 0.5339 - accuracy: 0.7404\n",
      "Epoch 57/100\n",
      "52500/52500 [==============================] - 5s 98us/sample - loss: 0.5338 - accuracy: 0.7402\n",
      "Epoch 58/100\n",
      "52500/52500 [==============================] - 5s 97us/sample - loss: 0.5338 - accuracy: 0.7392\n",
      "Epoch 59/100\n",
      "52500/52500 [==============================] - 5s 98us/sample - loss: 0.5336 - accuracy: 0.7396\n",
      "Epoch 60/100\n",
      "52500/52500 [==============================] - 5s 104us/sample - loss: 0.5336 - accuracy: 0.7396\n",
      "Epoch 61/100\n",
      "52500/52500 [==============================] - 6s 119us/sample - loss: 0.5337 - accuracy: 0.7390\n",
      "Epoch 62/100\n",
      "52500/52500 [==============================] - 6s 105us/sample - loss: 0.5335 - accuracy: 0.7390\n",
      "Epoch 63/100\n",
      "52500/52500 [==============================] - 5s 104us/sample - loss: 0.5329 - accuracy: 0.7391\n",
      "Epoch 64/100\n",
      "52500/52500 [==============================] - 5s 104us/sample - loss: 0.5333 - accuracy: 0.7408\n",
      "Epoch 65/100\n",
      "52500/52500 [==============================] - 6s 109us/sample - loss: 0.5331 - accuracy: 0.7410\n",
      "Epoch 66/100\n",
      "52500/52500 [==============================] - 6s 107us/sample - loss: 0.5331 - accuracy: 0.7408\n",
      "Epoch 67/100\n",
      "52500/52500 [==============================] - 6s 115us/sample - loss: 0.5329 - accuracy: 0.7399\n",
      "Epoch 68/100\n",
      "52500/52500 [==============================] - 6s 107us/sample - loss: 0.5328 - accuracy: 0.7404\n",
      "Epoch 69/100\n",
      "52500/52500 [==============================] - 6s 107us/sample - loss: 0.5328 - accuracy: 0.7404\n",
      "Epoch 70/100\n",
      "52500/52500 [==============================] - 6s 109us/sample - loss: 0.5329 - accuracy: 0.7390\n",
      "Epoch 71/100\n",
      "52500/52500 [==============================] - 6s 108us/sample - loss: 0.5328 - accuracy: 0.7405\n",
      "Epoch 72/100\n",
      "52500/52500 [==============================] - 6s 109us/sample - loss: 0.5325 - accuracy: 0.7396 - l\n",
      "Epoch 73/100\n",
      "52500/52500 [==============================] - 7s 129us/sample - loss: 0.5325 - accuracy: 0.7404\n",
      "Epoch 74/100\n",
      "52500/52500 [==============================] - 6s 116us/sample - loss: 0.5326 - accuracy: 0.7411\n",
      "Epoch 75/100\n",
      "52500/52500 [==============================] - 7s 125us/sample - loss: 0.5324 - accuracy: 0.7414\n",
      "Epoch 76/100\n",
      "52500/52500 [==============================] - 6s 118us/sample - loss: 0.5323 - accuracy: 0.7407\n",
      "Epoch 77/100\n",
      "52500/52500 [==============================] - 6s 114us/sample - loss: 0.5322 - accuracy: 0.7407\n",
      "Epoch 78/100\n",
      "52500/52500 [==============================] - 6s 105us/sample - loss: 0.5323 - accuracy: 0.7416\n",
      "Epoch 79/100\n",
      "52500/52500 [==============================] - 5s 102us/sample - loss: 0.5321 - accuracy: 0.7410\n",
      "Epoch 80/100\n",
      "52500/52500 [==============================] - 5s 103us/sample - loss: 0.5321 - accuracy: 0.7411\n",
      "Epoch 81/100\n",
      "52500/52500 [==============================] - 5s 102us/sample - loss: 0.5318 - accuracy: 0.7400\n",
      "Epoch 82/100\n",
      "52500/52500 [==============================] - 5s 102us/sample - loss: 0.5320 - accuracy: 0.7422\n",
      "Epoch 83/100\n",
      "52500/52500 [==============================] - 5s 102us/sample - loss: 0.5319 - accuracy: 0.7414\n",
      "Epoch 84/100\n",
      "52500/52500 [==============================] - 5s 103us/sample - loss: 0.5316 - accuracy: 0.7407\n",
      "Epoch 85/100\n",
      "52500/52500 [==============================] - 5s 104us/sample - loss: 0.5319 - accuracy: 0.7408\n",
      "Epoch 86/100\n",
      "52500/52500 [==============================] - 6s 107us/sample - loss: 0.5319 - accuracy: 0.7421\n",
      "Epoch 87/100\n",
      "52500/52500 [==============================] - 5s 105us/sample - loss: 0.5317 - accuracy: 0.7407\n",
      "Epoch 88/100\n",
      "52500/52500 [==============================] - 6s 107us/sample - loss: 0.5315 - accuracy: 0.7406\n",
      "Epoch 89/100\n",
      "52500/52500 [==============================] - 7s 128us/sample - loss: 0.5317 - accuracy: 0.7405\n",
      "Epoch 90/100\n",
      "52500/52500 [==============================] - 6s 121us/sample - loss: 0.5315 - accuracy: 0.7413\n",
      "Epoch 91/100\n",
      "52500/52500 [==============================] - 7s 128us/sample - loss: 0.5313 - accuracy: 0.7413\n",
      "Epoch 92/100\n",
      "52500/52500 [==============================] - 6s 114us/sample - loss: 0.5313 - accuracy: 0.7401\n",
      "Epoch 93/100\n",
      "52500/52500 [==============================] - 6s 108us/sample - loss: 0.5314 - accuracy: 0.7411\n",
      "Epoch 94/100\n",
      "52500/52500 [==============================] - 6s 108us/sample - loss: 0.5315 - accuracy: 0.7413\n",
      "Epoch 95/100\n",
      "52500/52500 [==============================] - 6s 110us/sample - loss: 0.5312 - accuracy: 0.7419\n",
      "Epoch 96/100\n",
      "52500/52500 [==============================] - 6s 106us/sample - loss: 0.5312 - accuracy: 0.7407\n",
      "Epoch 97/100\n",
      "52500/52500 [==============================] - 6s 107us/sample - loss: 0.5315 - accuracy: 0.7422\n",
      "Epoch 98/100\n",
      "52500/52500 [==============================] - 6s 109us/sample - loss: 0.5309 - accuracy: 0.7412\n",
      "Epoch 99/100\n",
      "52500/52500 [==============================] - 6s 109us/sample - loss: 0.5312 - accuracy: 0.7400\n",
      "Epoch 100/100\n",
      "52500/52500 [==============================] - 6s 109us/sample - loss: 0.5311 - accuracy: 0.7413\n"
     ]
    }
   ],
   "source": [
    "# Train the model\n",
    "y_train=y_train.to_numpy()\n",
    "fit_model = nn.fit(X_train_scaled, y_train, epochs=100)"
   ]
  },
  {
   "cell_type": "code",
   "execution_count": 59,
   "metadata": {},
   "outputs": [
    {
     "name": "stdout",
     "output_type": "stream",
     "text": [
      "17500/1 - 1s - loss: 0.5829 - accuracy: 0.7317\n",
      "Loss: 0.5478981971876962, Accuracy: 0.7316571474075317\n"
     ]
    }
   ],
   "source": [
    "# Evaluate the model using the test data\n",
    "y_test= y_test.to_numpy()\n",
    "model_loss, model_accuracy = nn.evaluate(X_test_scaled,y_test,verbose=2)\n",
    "print(f\"Loss: {model_loss}, Accuracy: {model_accuracy}\")"
   ]
  },
  {
   "cell_type": "code",
   "execution_count": 1,
   "metadata": {},
   "outputs": [
    {
     "ename": "NameError",
     "evalue": "name 'model' is not defined",
     "output_type": "error",
     "traceback": [
      "\u001b[1;31m---------------------------------------------------------------------------\u001b[0m",
      "\u001b[1;31mNameError\u001b[0m                                 Traceback (most recent call last)",
      "\u001b[1;32m<ipython-input-1-90834e8b1c9a>\u001b[0m in \u001b[0;36m<module>\u001b[1;34m\u001b[0m\n\u001b[1;32m----> 1\u001b[1;33m \u001b[0mpredictions\u001b[0m \u001b[1;33m=\u001b[0m \u001b[0mmodel\u001b[0m\u001b[1;33m.\u001b[0m\u001b[0mpredict\u001b[0m\u001b[1;33m(\u001b[0m\u001b[0mX_test_scaled\u001b[0m\u001b[1;33m)\u001b[0m\u001b[1;33m\u001b[0m\u001b[1;33m\u001b[0m\u001b[0m\n\u001b[0m",
      "\u001b[1;31mNameError\u001b[0m: name 'model' is not defined"
     ]
    }
   ],
   "source": [
    "predictions = model.predict(X_test_scaled)"
   ]
  },
  {
   "cell_type": "code",
   "execution_count": null,
   "metadata": {},
   "outputs": [],
   "source": [
    "# Export our model to HDF5 file\n",
    "nn.save(\"CardiovascularPredictions.h5\")"
   ]
  }
 ],
 "metadata": {
  "kernelspec": {
   "display_name": "PythonData",
   "language": "python",
   "name": "pythondata"
  },
  "language_info": {
   "codemirror_mode": {
    "name": "ipython",
    "version": 3
   },
   "file_extension": ".py",
   "mimetype": "text/x-python",
   "name": "python",
   "nbconvert_exporter": "python",
   "pygments_lexer": "ipython3",
   "version": "3.7.7"
  }
 },
 "nbformat": 4,
 "nbformat_minor": 4
}
